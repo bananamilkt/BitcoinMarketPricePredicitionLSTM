{
 "cells": [
  {
   "cell_type": "markdown",
   "metadata": {},
   "source": [
    "### LSTM for predicting Bitcoin market price"
   ]
  },
  {
   "cell_type": "markdown",
   "metadata": {},
   "source": [
    "#### Import libararies"
   ]
  },
  {
   "cell_type": "code",
   "execution_count": 1,
   "metadata": {},
   "outputs": [],
   "source": [
    "import numpy as np\n",
    "import matplotlib.pyplot as plt\n",
    "import pandas as pd\n",
    "from sklearn.preprocessing import MinMaxScaler\n",
    "from keras.models import Sequential\n",
    "from keras.layers import Dense\n",
    "from keras.layers import LSTM\n",
    "from keras.layers import Dropout"
   ]
  },
  {
   "cell_type": "markdown",
   "metadata": {},
   "source": [
    "#### Import and Formating training data"
   ]
  },
  {
   "cell_type": "markdown",
   "metadata": {},
   "source": [
    "##### Import CSV file"
   ]
  },
  {
   "cell_type": "code",
   "execution_count": 2,
   "metadata": {},
   "outputs": [],
   "source": [
    "training_csv = pd.read_csv('Bitcoin_MarketPrice.csv')\n",
    "training_set = training_csv.iloc[:, 1:2].values"
   ]
  },
  {
   "cell_type": "markdown",
   "metadata": {},
   "source": [
    "##### Normalizing Data set"
   ]
  },
  {
   "cell_type": "code",
   "execution_count": 3,
   "metadata": {},
   "outputs": [],
   "source": [
    "scaler = MinMaxScaler(feature_range = (0,1))\n",
    "training_set = scaler.fit_transform(training_set)"
   ]
  },
  {
   "cell_type": "markdown",
   "metadata": {},
   "source": [
    "##### Generating training data with 20 timesteps structure"
   ]
  },
  {
   "cell_type": "code",
   "execution_count": 4,
   "metadata": {},
   "outputs": [],
   "source": [
    "x_train = []\n",
    "y_train = []\n",
    "for i in range(20, len(training_csv)):\n",
    "    x_train.append(training_set[i-20:i, 0])\n",
    "    y_train.append(training_set[i,0])\n",
    "\n",
    "x_train, y_train = np.array(x_train), np.array(y_train)\n",
    "x_train = np.reshape(x_train, (x_train.shape[0], x_train.shape[1], 1))"
   ]
  },
  {
   "cell_type": "markdown",
   "metadata": {},
   "source": [
    "#### Constructing LSTM"
   ]
  },
  {
   "cell_type": "code",
   "execution_count": 5,
   "metadata": {},
   "outputs": [
    {
     "name": "stdout",
     "output_type": "stream",
     "text": [
      "Epoch 1/128\n",
      "34/34 [==============================] - 4s 18ms/step - loss: 0.0315\n",
      "Epoch 2/128\n",
      "34/34 [==============================] - 1s 16ms/step - loss: 0.0067\n",
      "Epoch 3/128\n",
      "34/34 [==============================] - 1s 16ms/step - loss: 0.0055\n",
      "Epoch 4/128\n",
      "34/34 [==============================] - 1s 16ms/step - loss: 0.0055\n",
      "Epoch 5/128\n",
      "34/34 [==============================] - 1s 17ms/step - loss: 0.0048\n",
      "Epoch 6/128\n",
      "34/34 [==============================] - 1s 16ms/step - loss: 0.0052\n",
      "Epoch 7/128\n",
      "34/34 [==============================] - 1s 17ms/step - loss: 0.0055\n",
      "Epoch 8/128\n",
      "34/34 [==============================] - 1s 17ms/step - loss: 0.0053\n",
      "Epoch 9/128\n",
      "34/34 [==============================] - 1s 17ms/step - loss: 0.0056\n",
      "Epoch 10/128\n",
      "34/34 [==============================] - 1s 17ms/step - loss: 0.0048\n",
      "Epoch 11/128\n",
      "34/34 [==============================] - 1s 17ms/step - loss: 0.0041\n",
      "Epoch 12/128\n",
      "34/34 [==============================] - 1s 17ms/step - loss: 0.0060\n",
      "Epoch 13/128\n",
      "34/34 [==============================] - 1s 17ms/step - loss: 0.0041\n",
      "Epoch 14/128\n",
      "34/34 [==============================] - 1s 17ms/step - loss: 0.0042\n",
      "Epoch 15/128\n",
      "34/34 [==============================] - 1s 17ms/step - loss: 0.0037\n",
      "Epoch 16/128\n",
      "34/34 [==============================] - 1s 17ms/step - loss: 0.0038\n",
      "Epoch 17/128\n",
      "34/34 [==============================] - 1s 17ms/step - loss: 0.0033\n",
      "Epoch 18/128\n",
      "34/34 [==============================] - 1s 17ms/step - loss: 0.0033\n",
      "Epoch 19/128\n",
      "34/34 [==============================] - 1s 16ms/step - loss: 0.0036\n",
      "Epoch 20/128\n",
      "34/34 [==============================] - 1s 17ms/step - loss: 0.0031\n",
      "Epoch 21/128\n",
      "34/34 [==============================] - 1s 17ms/step - loss: 0.0035\n",
      "Epoch 22/128\n",
      "34/34 [==============================] - 1s 16ms/step - loss: 0.0030\n",
      "Epoch 23/128\n",
      "34/34 [==============================] - 1s 17ms/step - loss: 0.0029\n",
      "Epoch 24/128\n",
      "34/34 [==============================] - 1s 17ms/step - loss: 0.0029\n",
      "Epoch 25/128\n",
      "34/34 [==============================] - 1s 17ms/step - loss: 0.0031\n",
      "Epoch 26/128\n",
      "34/34 [==============================] - 1s 16ms/step - loss: 0.0028\n",
      "Epoch 27/128\n",
      "34/34 [==============================] - 1s 17ms/step - loss: 0.0030\n",
      "Epoch 28/128\n",
      "34/34 [==============================] - 1s 17ms/step - loss: 0.0027\n",
      "Epoch 29/128\n",
      "34/34 [==============================] - 1s 17ms/step - loss: 0.0023\n",
      "Epoch 30/128\n",
      "34/34 [==============================] - 1s 17ms/step - loss: 0.0026\n",
      "Epoch 31/128\n",
      "34/34 [==============================] - 1s 17ms/step - loss: 0.0029\n",
      "Epoch 32/128\n",
      "34/34 [==============================] - 1s 17ms/step - loss: 0.0028\n",
      "Epoch 33/128\n",
      "34/34 [==============================] - 1s 17ms/step - loss: 0.0024\n",
      "Epoch 34/128\n",
      "34/34 [==============================] - 1s 17ms/step - loss: 0.0025\n",
      "Epoch 35/128\n",
      "34/34 [==============================] - 1s 16ms/step - loss: 0.0023\n",
      "Epoch 36/128\n",
      "34/34 [==============================] - 1s 16ms/step - loss: 0.0025\n",
      "Epoch 37/128\n",
      "34/34 [==============================] - 1s 17ms/step - loss: 0.0025\n",
      "Epoch 38/128\n",
      "34/34 [==============================] - 1s 17ms/step - loss: 0.0022\n",
      "Epoch 39/128\n",
      "34/34 [==============================] - 1s 17ms/step - loss: 0.0024\n",
      "Epoch 40/128\n",
      "34/34 [==============================] - 1s 17ms/step - loss: 0.0022\n",
      "Epoch 41/128\n",
      "34/34 [==============================] - 1s 17ms/step - loss: 0.0020\n",
      "Epoch 42/128\n",
      "34/34 [==============================] - 1s 17ms/step - loss: 0.0021\n",
      "Epoch 43/128\n",
      "34/34 [==============================] - 1s 17ms/step - loss: 0.0023\n",
      "Epoch 44/128\n",
      "34/34 [==============================] - 1s 17ms/step - loss: 0.0024\n",
      "Epoch 45/128\n",
      "34/34 [==============================] - 1s 17ms/step - loss: 0.0022\n",
      "Epoch 46/128\n",
      "34/34 [==============================] - 1s 17ms/step - loss: 0.0019\n",
      "Epoch 47/128\n",
      "34/34 [==============================] - 1s 17ms/step - loss: 0.0021\n",
      "Epoch 48/128\n",
      "34/34 [==============================] - 1s 17ms/step - loss: 0.0019\n",
      "Epoch 49/128\n",
      "34/34 [==============================] - 1s 17ms/step - loss: 0.0020\n",
      "Epoch 50/128\n",
      "34/34 [==============================] - 1s 16ms/step - loss: 0.0026\n",
      "Epoch 51/128\n",
      "34/34 [==============================] - 1s 17ms/step - loss: 0.0021\n",
      "Epoch 52/128\n",
      "34/34 [==============================] - 1s 17ms/step - loss: 0.0018\n",
      "Epoch 53/128\n",
      "34/34 [==============================] - 1s 17ms/step - loss: 0.0023\n",
      "Epoch 54/128\n",
      "34/34 [==============================] - 1s 17ms/step - loss: 0.0021\n",
      "Epoch 55/128\n",
      "34/34 [==============================] - 1s 17ms/step - loss: 0.0021\n",
      "Epoch 56/128\n",
      "34/34 [==============================] - 1s 17ms/step - loss: 0.0019\n",
      "Epoch 57/128\n",
      "34/34 [==============================] - 1s 17ms/step - loss: 0.0017\n",
      "Epoch 58/128\n",
      "34/34 [==============================] - 1s 17ms/step - loss: 0.0018\n",
      "Epoch 59/128\n",
      "34/34 [==============================] - 1s 17ms/step - loss: 0.0018\n",
      "Epoch 60/128\n",
      "34/34 [==============================] - 1s 17ms/step - loss: 0.0021\n",
      "Epoch 61/128\n",
      "34/34 [==============================] - 1s 17ms/step - loss: 0.0020\n",
      "Epoch 62/128\n",
      "34/34 [==============================] - 1s 16ms/step - loss: 0.0019\n",
      "Epoch 63/128\n",
      "34/34 [==============================] - 1s 16ms/step - loss: 0.0016\n",
      "Epoch 64/128\n",
      "34/34 [==============================] - 1s 16ms/step - loss: 0.0015\n",
      "Epoch 65/128\n",
      "34/34 [==============================] - 1s 16ms/step - loss: 0.0018\n",
      "Epoch 66/128\n",
      "34/34 [==============================] - 1s 17ms/step - loss: 0.0018\n",
      "Epoch 67/128\n",
      "34/34 [==============================] - 1s 17ms/step - loss: 0.0018\n",
      "Epoch 68/128\n",
      "34/34 [==============================] - 1s 17ms/step - loss: 0.0016\n",
      "Epoch 69/128\n",
      "34/34 [==============================] - 1s 17ms/step - loss: 0.0016\n",
      "Epoch 70/128\n",
      "34/34 [==============================] - 1s 17ms/step - loss: 0.0015\n",
      "Epoch 71/128\n",
      "34/34 [==============================] - 1s 17ms/step - loss: 0.0018\n",
      "Epoch 72/128\n",
      "34/34 [==============================] - 1s 17ms/step - loss: 0.0017\n",
      "Epoch 73/128\n",
      "34/34 [==============================] - 1s 17ms/step - loss: 0.0016\n",
      "Epoch 74/128\n",
      "34/34 [==============================] - 1s 17ms/step - loss: 0.0020\n",
      "Epoch 75/128\n",
      "34/34 [==============================] - 1s 16ms/step - loss: 0.0017\n",
      "Epoch 76/128\n",
      "34/34 [==============================] - 1s 16ms/step - loss: 0.0015\n",
      "Epoch 77/128\n",
      "34/34 [==============================] - 1s 17ms/step - loss: 0.0016\n",
      "Epoch 78/128\n",
      "34/34 [==============================] - 1s 17ms/step - loss: 0.0015\n",
      "Epoch 79/128\n",
      "34/34 [==============================] - 1s 17ms/step - loss: 0.0017\n",
      "Epoch 80/128\n",
      "34/34 [==============================] - 1s 17ms/step - loss: 0.0017\n",
      "Epoch 81/128\n",
      "34/34 [==============================] - 1s 17ms/step - loss: 0.0017\n",
      "Epoch 82/128\n",
      "34/34 [==============================] - 1s 17ms/step - loss: 0.0017\n",
      "Epoch 83/128\n",
      "34/34 [==============================] - 1s 17ms/step - loss: 0.0016\n",
      "Epoch 84/128\n",
      "34/34 [==============================] - 1s 17ms/step - loss: 0.0014\n",
      "Epoch 85/128\n",
      "34/34 [==============================] - 1s 17ms/step - loss: 0.0015\n",
      "Epoch 86/128\n",
      "34/34 [==============================] - 1s 17ms/step - loss: 0.0014\n",
      "Epoch 87/128\n",
      "34/34 [==============================] - 1s 17ms/step - loss: 0.0014\n",
      "Epoch 88/128\n",
      "34/34 [==============================] - 1s 17ms/step - loss: 0.0014\n",
      "Epoch 89/128\n",
      "34/34 [==============================] - 1s 17ms/step - loss: 0.0015\n",
      "Epoch 90/128\n",
      "34/34 [==============================] - 1s 17ms/step - loss: 0.0014\n",
      "Epoch 91/128\n",
      "34/34 [==============================] - 1s 17ms/step - loss: 0.0012\n",
      "Epoch 92/128\n",
      "34/34 [==============================] - 1s 17ms/step - loss: 0.0015\n",
      "Epoch 93/128\n",
      "34/34 [==============================] - 1s 17ms/step - loss: 0.0015\n",
      "Epoch 94/128\n",
      "34/34 [==============================] - 1s 17ms/step - loss: 0.0015\n",
      "Epoch 95/128\n",
      "34/34 [==============================] - 1s 17ms/step - loss: 0.0014\n",
      "Epoch 96/128\n",
      "34/34 [==============================] - 1s 17ms/step - loss: 0.0013\n",
      "Epoch 97/128\n",
      "34/34 [==============================] - 1s 17ms/step - loss: 0.0013\n",
      "Epoch 98/128\n",
      "34/34 [==============================] - 1s 18ms/step - loss: 0.0015\n",
      "Epoch 99/128\n",
      "34/34 [==============================] - 1s 17ms/step - loss: 0.0015\n",
      "Epoch 100/128\n",
      "34/34 [==============================] - 1s 17ms/step - loss: 0.0015\n",
      "Epoch 101/128\n",
      "34/34 [==============================] - 1s 17ms/step - loss: 0.0015\n",
      "Epoch 102/128\n",
      "34/34 [==============================] - 1s 17ms/step - loss: 0.0015\n",
      "Epoch 103/128\n",
      "34/34 [==============================] - 1s 17ms/step - loss: 0.0016\n",
      "Epoch 104/128\n",
      "34/34 [==============================] - 1s 17ms/step - loss: 0.0013\n",
      "Epoch 105/128\n",
      "34/34 [==============================] - 1s 17ms/step - loss: 0.0014\n",
      "Epoch 106/128\n",
      "34/34 [==============================] - 1s 17ms/step - loss: 0.0014\n",
      "Epoch 107/128\n",
      "34/34 [==============================] - 1s 17ms/step - loss: 0.0014\n",
      "Epoch 108/128\n",
      "34/34 [==============================] - 1s 18ms/step - loss: 0.0013\n",
      "Epoch 109/128\n",
      "34/34 [==============================] - 1s 17ms/step - loss: 0.0014\n",
      "Epoch 110/128\n",
      "34/34 [==============================] - 1s 17ms/step - loss: 0.0014\n",
      "Epoch 111/128\n",
      "34/34 [==============================] - 1s 18ms/step - loss: 0.0012\n",
      "Epoch 112/128\n",
      "34/34 [==============================] - 1s 18ms/step - loss: 0.0014\n",
      "Epoch 113/128\n",
      "34/34 [==============================] - 1s 18ms/step - loss: 0.0015\n",
      "Epoch 114/128\n",
      "34/34 [==============================] - 1s 17ms/step - loss: 0.0012\n",
      "Epoch 115/128\n",
      "34/34 [==============================] - 1s 17ms/step - loss: 0.0015\n",
      "Epoch 116/128\n",
      "34/34 [==============================] - 1s 17ms/step - loss: 0.0013\n",
      "Epoch 117/128\n",
      "34/34 [==============================] - 1s 17ms/step - loss: 0.0012\n",
      "Epoch 118/128\n",
      "34/34 [==============================] - 1s 17ms/step - loss: 0.0013\n",
      "Epoch 119/128\n",
      "34/34 [==============================] - 1s 17ms/step - loss: 0.0015\n",
      "Epoch 120/128\n",
      "34/34 [==============================] - 1s 17ms/step - loss: 0.0015\n",
      "Epoch 121/128\n",
      "34/34 [==============================] - 1s 17ms/step - loss: 0.0013\n",
      "Epoch 122/128\n",
      "34/34 [==============================] - 1s 17ms/step - loss: 0.0013\n",
      "Epoch 123/128\n",
      "34/34 [==============================] - 1s 17ms/step - loss: 0.0016\n",
      "Epoch 124/128\n",
      "34/34 [==============================] - 1s 17ms/step - loss: 0.0014\n",
      "Epoch 125/128\n",
      "34/34 [==============================] - 1s 17ms/step - loss: 0.0012\n",
      "Epoch 126/128\n",
      "34/34 [==============================] - 1s 18ms/step - loss: 0.0012\n",
      "Epoch 127/128\n",
      "34/34 [==============================] - 1s 17ms/step - loss: 0.0015\n",
      "Epoch 128/128\n",
      "34/34 [==============================] - 1s 17ms/step - loss: 0.0016\n",
      "Model: \"sequential\"\n",
      "_________________________________________________________________\n",
      " Layer (type)                Output Shape              Param #   \n",
      "=================================================================\n",
      " lstm (LSTM)                 (None, 20, 64)            16896     \n",
      "                                                                 \n",
      " dropout (Dropout)           (None, 20, 64)            0         \n",
      "                                                                 \n",
      " lstm_1 (LSTM)               (None, 20, 64)            33024     \n",
      "                                                                 \n",
      " dropout_1 (Dropout)         (None, 20, 64)            0         \n",
      "                                                                 \n",
      " lstm_2 (LSTM)               (None, 20, 64)            33024     \n",
      "                                                                 \n",
      " dropout_2 (Dropout)         (None, 20, 64)            0         \n",
      "                                                                 \n",
      " lstm_3 (LSTM)               (None, 64)                33024     \n",
      "                                                                 \n",
      " dropout_3 (Dropout)         (None, 64)                0         \n",
      "                                                                 \n",
      " dense (Dense)               (None, 1)                 65        \n",
      "                                                                 \n",
      "=================================================================\n",
      "Total params: 116,033\n",
      "Trainable params: 116,033\n",
      "Non-trainable params: 0\n",
      "_________________________________________________________________\n"
     ]
    }
   ],
   "source": [
    "model = Sequential()\n",
    "\n",
    "model.add(LSTM(units = 64, return_sequences = True, input_shape = (x_train.shape[1],1)))\n",
    "model.add(Dropout(0.2))\n",
    "\n",
    "model.add(LSTM(units = 64, return_sequences = True))\n",
    "model.add(Dropout(0.2))\n",
    "\n",
    "model.add(LSTM(units = 64, return_sequences = True))\n",
    "model.add(Dropout(0.2))\n",
    "\n",
    "model.add(LSTM(units = 64))\n",
    "model.add(Dropout(0.2))\n",
    "\n",
    "model.add(Dense(units = 1))\n",
    "\n",
    "model.compile(optimizer = 'adam', loss = 'mean_squared_error')\n",
    "\n",
    "model.fit(x_train, y_train, epochs = 128, batch_size = 32)\n",
    "\n",
    "model.summary()"
   ]
  },
  {
   "cell_type": "markdown",
   "metadata": {},
   "source": [
    "#### Prediction"
   ]
  },
  {
   "cell_type": "markdown",
   "metadata": {},
   "source": [
    "##### Formating testing data"
   ]
  },
  {
   "cell_type": "code",
   "execution_count": 6,
   "metadata": {},
   "outputs": [],
   "source": [
    "testing_set = training_csv.iloc[len(training_csv) - 40:, 1:2].values\n",
    "testing_set = testing_set.reshape(-1 ,1)\n",
    "testing_set = scaler.transform(testing_set)\n",
    "\n",
    "x_test = []\n",
    "for i in range(20, 40):\n",
    "    x_test.append(testing_set[i-20:i, 0])\n",
    "\n",
    "x_test = np.array(x_test)\n",
    "x_test = np.reshape(x_test, (x_test.shape[0], x_test.shape[1], 1))"
   ]
  },
  {
   "cell_type": "markdown",
   "metadata": {},
   "source": [
    "##### Predicting the result"
   ]
  },
  {
   "cell_type": "code",
   "execution_count": 7,
   "metadata": {},
   "outputs": [],
   "source": [
    "predicted_price = model.predict(x_test)\n",
    "predicted_price = scaler.inverse_transform(predicted_price)"
   ]
  },
  {
   "cell_type": "code",
   "execution_count": 8,
   "metadata": {},
   "outputs": [
    {
     "data": {
      "image/png": "[encoded data removed]",
      "text/plain": [
       "<Figure size 432x288 with 1 Axes>"
      ]
     },
     "metadata": {
      "needs_background": "light"
     },
     "output_type": "display_data"
    }
   ],
   "source": [
    "plt.plot(predicted_price, color = 'green', label = 'predicted Bitcoin Stock Price')\n",
    "plt.title('Bitcoin Stock Price Prediction')\n",
    "plt.xlabel('Time')\n",
    "plt.ylabel('Price')\n",
    "plt.legend()\n",
    "plt.show()"
   ]
  }
 ],
 "metadata": {
  "kernelspec": {
   "display_name": "Python 3.10.0 64-bit",
   "language": "python",
   "name": "python3"
  },
  "language_info": {
   "codemirror_mode": {
    "name": "ipython",
    "version": 3
   },
   "file_extension": ".py",
   "mimetype": "text/x-python",
   "name": "python",
   "nbconvert_exporter": "python",
   "pygments_lexer": "ipython3",
   "version": "3.10.0"
  },
  "orig_nbformat": 4,
  "vscode": {
   "interpreter": {
    "hash": "a7552a0d837c159b2659a124684bd992ffda64ad2c77c227e0391db490b77be2"
   }
  }
 },
 "nbformat": 4,
 "nbformat_minor": 2
}
